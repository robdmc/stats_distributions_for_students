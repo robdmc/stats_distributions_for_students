{
 "cells": [
  {
   "cell_type": "code",
   "execution_count": null,
   "metadata": {},
   "outputs": [],
   "source": [
    "import holoviews as hv\n",
    "import numpy as np\n",
    "hv.extension('bokeh')\n",
    "import pandas as pd\n",
    "from scipy import stats"
   ]
  },
  {
   "cell_type": "code",
   "execution_count": null,
   "metadata": {
    "collapsed": true
   },
   "outputs": [],
   "source": [
    "%opts Curve [width=600 height=400] (color='black')\n",
    "%opts Curve.reference (color='green', line_dash='dotted')\n",
    "%opts Area [height=400] (line_width=2 alpha=.5) VLine (color='red') {+framewise}"
   ]
  },
  {
   "cell_type": "markdown",
   "metadata": {},
   "source": [
    "# Normal Distrubtion"
   ]
  },
  {
   "cell_type": "code",
   "execution_count": null,
   "metadata": {},
   "outputs": [],
   "source": [
    "xs = np.linspace(-3, 3, 600)\n",
    "\n",
    "def function(xs, mu, sigma):\n",
    "    \"Some time varying function\"\n",
    "    return stats.norm(loc=mu, scale=sigma).pdf(xs)\n",
    "\n",
    "def integral(limit, mu, sigma):\n",
    "    limit = -3 if limit is None else np.clip(limit,-3,3)\n",
    "    if limit > 0:\n",
    "        curve = hv.Curve((xs, function(xs, mu, sigma)))[:limit]\n",
    "        area  = hv.Area ((xs, function(xs, mu, sigma)))[limit:]\n",
    "    else:\n",
    "        curve = hv.Curve((xs, function(xs, mu, sigma)))[limit:]\n",
    "        area  = hv.Area ((xs, function(xs, mu, sigma)))[:limit]\n",
    "        \n",
    "    summed = area.dimension_values('y').sum() * 0.015  # Numeric approximation\n",
    "    return (area * curve * hv.VLine(limit) * hv.Text(limit + 0.5, .20, 'p = %.3f' % summed))\n",
    "\n",
    "# hv.DynamicMap(integral, streams=[hv.streams.Stream.define('Sigma', time=1.0)(), \n",
    "#                                  hv.streams.PointerX().rename(x='limit')])\n",
    "\n",
    "hv.DynamicMap(\n",
    "    integral, \n",
    "    kdims=['mu','sigma'],\n",
    "    streams=[ \n",
    "        hv.streams.PointerX().rename(x='limit')\n",
    "    ]\n",
    ").redim.range(\n",
    "    mu=(-1., 1.),\n",
    "    sigma=(.2, 1.))\n"
   ]
  },
  {
   "cell_type": "markdown",
   "metadata": {},
   "source": [
    "# Students T Distribution"
   ]
  },
  {
   "cell_type": "code",
   "execution_count": null,
   "metadata": {},
   "outputs": [],
   "source": [
    "xs = np.linspace(-3, 3, 600)\n",
    "\n",
    "def function(xs, mu, sigma ,dof):\n",
    "    return stats.t(df=dof, loc=mu, scale=sigma).pdf(xs)\n",
    "\n",
    "def reference(xs, mu, sigma):\n",
    "    return stats.norm(loc=mu, scale=sigma).pdf(xs)\n",
    "\n",
    "def integral(limit, mu, sigma, dof):\n",
    "    limit = -3 if limit is None else np.clip(limit,-3,3)\n",
    "    if limit > 0:\n",
    "        curve = hv.Curve((xs, function(xs, mu, sigma, dof)))[:limit]\n",
    "        area  = hv.Area ((xs, function(xs, mu, sigma, dof)))[limit:]\n",
    "    else:\n",
    "        curve = hv.Curve((xs, function(xs, mu, sigma, dof)))[limit:]\n",
    "        area  = hv.Area ((xs, function(xs, mu, sigma, dof)))[:limit]\n",
    "        \n",
    "    summed = area.dimension_values('y').sum() * 0.015  # Numeric approximation\n",
    "    out = (area * curve * hv.VLine(limit) * hv.Text(limit + 0.5, .20, 'p = %.3f' % summed))\n",
    "    out = out * hv.Curve((xs, reference(xs, mu, sigma)), group='reference')\n",
    "    return out\n",
    "\n",
    "hv.DynamicMap(\n",
    "    integral, \n",
    "    kdims=['mu','sigma', 'dof'],\n",
    "    streams=[ \n",
    "        hv.streams.PointerX().rename(x='limit')\n",
    "    ]\n",
    ").redim.range(\n",
    "    mu=(-1., 1.),\n",
    "    sigma=(.1, 1),\n",
    "    dof=(2, 50)\n",
    ")\n"
   ]
  },
  {
   "cell_type": "code",
   "execution_count": null,
   "metadata": {
    "collapsed": true
   },
   "outputs": [],
   "source": []
  }
 ],
 "metadata": {
  "kernelspec": {
   "display_name": "Python 3",
   "language": "python",
   "name": "python3"
  },
  "language_info": {
   "codemirror_mode": {
    "name": "ipython",
    "version": 3
   },
   "file_extension": ".py",
   "mimetype": "text/x-python",
   "name": "python",
   "nbconvert_exporter": "python",
   "pygments_lexer": "ipython3",
   "version": "3.6.2"
  }
 },
 "nbformat": 4,
 "nbformat_minor": 2
}
